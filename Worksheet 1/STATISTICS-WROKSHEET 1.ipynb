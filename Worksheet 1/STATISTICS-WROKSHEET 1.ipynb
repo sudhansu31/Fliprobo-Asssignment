{
 "cells": [
  {
   "cell_type": "markdown",
   "metadata": {},
   "source": [
    "**1. Bernoulli random variables take (only) the values 1 and 0**"
   ]
  },
  {
   "cell_type": "code",
   "execution_count": 1,
   "metadata": {},
   "outputs": [],
   "source": [
    "#Answer:A TURE"
   ]
  },
  {
   "cell_type": "markdown",
   "metadata": {},
   "source": [
    "**2. Which of the following theorem states that the distribution of averages of iid variables, properly \n",
    "normalized, becomes that of a standard normal as the sample size increases?**"
   ]
  },
  {
   "cell_type": "code",
   "execution_count": 3,
   "metadata": {},
   "outputs": [],
   "source": [
    "#Answer:A Central Limit Theorem"
   ]
  },
  {
   "cell_type": "markdown",
   "metadata": {},
   "source": [
    "**3. Which of the following is incorrect with respect to use of Poisson distribution?**"
   ]
  },
  {
   "cell_type": "code",
   "execution_count": 4,
   "metadata": {},
   "outputs": [],
   "source": [
    "#Answer:C All of the mentioned"
   ]
  },
  {
   "cell_type": "markdown",
   "metadata": {},
   "source": [
    "**4. Point out the correct statement.**"
   ]
  },
  {
   "cell_type": "code",
   "execution_count": 5,
   "metadata": {},
   "outputs": [],
   "source": [
    "#Answer:B The square of a standard normal random variable follows what is called chi-squared Distribution."
   ]
  },
  {
   "cell_type": "markdown",
   "metadata": {},
   "source": [
    "**5. ______ random variables are used to model rates**"
   ]
  },
  {
   "cell_type": "code",
   "execution_count": 6,
   "metadata": {},
   "outputs": [],
   "source": [
    "#Answer:C Poisson"
   ]
  },
  {
   "cell_type": "markdown",
   "metadata": {},
   "source": [
    "**6. 10. Usually replacing the standard error by its estimated value does change the CLT.**"
   ]
  },
  {
   "cell_type": "code",
   "execution_count": 7,
   "metadata": {},
   "outputs": [],
   "source": [
    "#Answer:B False"
   ]
  },
  {
   "cell_type": "markdown",
   "metadata": {},
   "source": [
    "**7.Which of the following testing is concerned with making decisions using data?**"
   ]
  },
  {
   "cell_type": "code",
   "execution_count": 9,
   "metadata": {},
   "outputs": [],
   "source": [
    "#Answer:B Hypothesis"
   ]
  },
  {
   "cell_type": "markdown",
   "metadata": {},
   "source": [
    "**8.Normalized data are centered at______and have units equal to standard deviations of the \n",
    "original data**"
   ]
  },
  {
   "cell_type": "code",
   "execution_count": 11,
   "metadata": {},
   "outputs": [],
   "source": [
    "#Answer:A 0"
   ]
  },
  {
   "cell_type": "markdown",
   "metadata": {},
   "source": [
    "**9. Which of the following statement is incorrect with respect to outliers?**"
   ]
  },
  {
   "cell_type": "code",
   "execution_count": 13,
   "metadata": {},
   "outputs": [],
   "source": [
    "#Answer:C Outliers cannot conform to the regression relationship"
   ]
  },
  {
   "cell_type": "markdown",
   "metadata": {},
   "source": [
    "**10. What do you understand by the term Normal Distribution?**"
   ]
  },
  {
   "cell_type": "markdown",
   "metadata": {},
   "source": [
    "Answer: Normal distribution is most important probability distribution in statistic becuase it fits many natural phenomena.It is also called Guassian distribution bell curve.The normal distribution is symmetric from the peak of the curve where the mean is. Most of the data get clustered near this mean and moving farther away from the mean data become less frequent.The mean,median and mode are equal.Here there is a constant proportion of distance lying under the curve between the mean and specific number of standard deviation. 68.25% of data fall within +or-1 standard deviation,95% of data fall within + or - 2 standard deviation and 99% of data fall within + or - 3 standard devaition. "
   ]
  },
  {
   "cell_type": "markdown",
   "metadata": {},
   "source": [
    "**11. How do you handle missing data? What imputation techniques do you recommend**\n",
    "\n",
    "Answer: Missing data in dataset could lead searious problem for analysing the data and it can skew everything in analysing.Missing data are those data which is not captured for a variable for the observation in question and it reduces the statistical power of analysis. The imputation and the removal of data are the two primary method widely use for tackling the missing data problem.In inputation method we try to provide possible gueeses for missing data.                                                                                              Before deciding which method to choose we must find the reason of missing data in data set. It could be Missing at Random(MAR),Missing completely at Random(MCAR) and Missing not a Random. There are many technique of imputation like 1. Mean,Median,mode,2.Time Series, 3.Last Observation Carried Forward (LOCF) & Next Observation Carried Backward (NOCB) and 4. Linear Interpolation. Which method to use its depands on pattern and need to understand the data properly.Mostly we can use Mean,Median,Mode if the data set having small number of missing observation. however if the missing observation is more than we should avoid using Mean,Median and mode to prevent loss of variation in data. This method does not use time-series characteristics or depend on the relationship between the variables."
   ]
  },
  {
   "cell_type": "markdown",
   "metadata": {},
   "source": [
    "**12. What is A/B testing?**"
   ]
  },
  {
   "cell_type": "markdown",
   "metadata": {},
   "source": [
    "Answer: This is also know as split testing which refers to randomized experimental process where two version of single variable are compared and also  try to determine which version leaves the maximum impact."
   ]
  },
  {
   "cell_type": "markdown",
   "metadata": {},
   "source": [
    "**13. Is mean imputation of missing data acceptable practice?**"
   ]
  },
  {
   "cell_type": "markdown",
   "metadata": {},
   "source": [
    "Answer: Mean imputation is the replacement of a missing observation with the mean of the non-missing observations for that variable.Imputating technique also preserve the mean of observed data so if the data is completely missing at random, the estimate of mean remains unbaised, which is good.also by this technquie we can keep sample size to the full sample size.The mean imputation will not bias the estimate parameter it will bias the standard error and its also help in minimizing the steep in graph after applying this techinque. Also any mean imputation will lead to the data that will have less standard error."
   ]
  },
  {
   "cell_type": "markdown",
   "metadata": {},
   "source": [
    "**14. What is linear regression in statistics?**"
   ]
  },
  {
   "cell_type": "markdown",
   "metadata": {},
   "source": [
    "Answer: Linear regression is commanly used for predictive type of analysis.where we trying to examine whether a set of predictor variable doing good in  predicting the outcome variable or dependant variable.and also it help to figure out which features are most significant feature in predicting outcome.regression estimates are used to explain the relationship between one dependent variable and one or more independent variables. The simplest form of the regression equation with one dependent and one independent variable is defined by the formula y = c+m*x, where y = estimated dependent variable score, c = constant, m = regression coefficient, and x = independent variable."
   ]
  },
  {
   "cell_type": "markdown",
   "metadata": {},
   "source": [
    "**15. What are the various branches of statistics?**"
   ]
  },
  {
   "cell_type": "markdown",
   "metadata": {},
   "source": [
    "Answer: There are two main branches of statistics :1. Descriptive Statistic and 2. Inferential Statistic."
   ]
  },
  {
   "cell_type": "code",
   "execution_count": null,
   "metadata": {},
   "outputs": [],
   "source": []
  }
 ],
 "metadata": {
  "kernelspec": {
   "display_name": "Python 3",
   "language": "python",
   "name": "python3"
  },
  "language_info": {
   "codemirror_mode": {
    "name": "ipython",
    "version": 3
   },
   "file_extension": ".py",
   "mimetype": "text/x-python",
   "name": "python",
   "nbconvert_exporter": "python",
   "pygments_lexer": "ipython3",
   "version": "3.7.6"
  }
 },
 "nbformat": 4,
 "nbformat_minor": 4
}
