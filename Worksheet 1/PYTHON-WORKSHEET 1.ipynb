{
 "cells": [
  {
   "cell_type": "markdown",
   "metadata": {},
   "source": [
    "**1. Which of the following operators is used to calculate remainder in a division?**"
   ]
  },
  {
   "cell_type": "code",
   "execution_count": 2,
   "metadata": {},
   "outputs": [],
   "source": [
    "#Answer: C %"
   ]
  },
  {
   "cell_type": "markdown",
   "metadata": {},
   "source": [
    "**2. In python 2//3 is equal to?**\n"
   ]
  },
  {
   "cell_type": "code",
   "execution_count": 3,
   "metadata": {},
   "outputs": [],
   "source": [
    "#Answer:B 0"
   ]
  },
  {
   "cell_type": "markdown",
   "metadata": {},
   "source": [
    "**3. In python, 6<<2 is equal to?**"
   ]
  },
  {
   "cell_type": "code",
   "execution_count": 4,
   "metadata": {},
   "outputs": [],
   "source": [
    "#Answer:C 24"
   ]
  },
  {
   "cell_type": "markdown",
   "metadata": {},
   "source": [
    "**4. In python, 6&2 will give which of the following as output?**"
   ]
  },
  {
   "cell_type": "code",
   "execution_count": 5,
   "metadata": {},
   "outputs": [],
   "source": [
    "#Answer:A 2"
   ]
  },
  {
   "cell_type": "markdown",
   "metadata": {},
   "source": [
    "**5. In python, 6|2 will give which of the following as output?**"
   ]
  },
  {
   "cell_type": "code",
   "execution_count": null,
   "metadata": {},
   "outputs": [],
   "source": [
    "#Answer:D 6"
   ]
  },
  {
   "cell_type": "markdown",
   "metadata": {},
   "source": [
    "**6. What does the finally keyword denotes in python?**"
   ]
  },
  {
   "cell_type": "code",
   "execution_count": 7,
   "metadata": {},
   "outputs": [],
   "source": [
    "#Answer:C the finally block will be executed no matter if the try block raises an error or not.\n"
   ]
  },
  {
   "cell_type": "markdown",
   "metadata": {},
   "source": [
    "**7. What does raise keyword is used for in python?**"
   ]
  },
  {
   "cell_type": "code",
   "execution_count": 8,
   "metadata": {},
   "outputs": [],
   "source": [
    "#Answer:A It is used to raise an exception. "
   ]
  },
  {
   "cell_type": "markdown",
   "metadata": {},
   "source": [
    "**8. Which of the following is a common use case of yield keyword in python?**"
   ]
  },
  {
   "cell_type": "code",
   "execution_count": 9,
   "metadata": {},
   "outputs": [],
   "source": [
    "#Answer:C in defining a generator"
   ]
  },
  {
   "cell_type": "markdown",
   "metadata": {},
   "source": [
    "**9. Which of the following are the valid variable names?**"
   ]
  },
  {
   "cell_type": "code",
   "execution_count": 10,
   "metadata": {},
   "outputs": [],
   "source": [
    "#Answer:A _abc and C abc2"
   ]
  },
  {
   "cell_type": "markdown",
   "metadata": {},
   "source": [
    "**10. Which of the following are the keywords in python?**"
   ]
  },
  {
   "cell_type": "code",
   "execution_count": 12,
   "metadata": {},
   "outputs": [],
   "source": [
    "#Answer:A yield and B raise"
   ]
  },
  {
   "cell_type": "markdown",
   "metadata": {},
   "source": [
    "**11. Write a python program to find the factorial of a number.**"
   ]
  },
  {
   "cell_type": "code",
   "execution_count": 13,
   "metadata": {},
   "outputs": [],
   "source": [
    "def Cal_factorial(number):\n",
    "    factorial=1\n",
    "    if number<0:\n",
    "        print(\"Factorial possible only for positive number\")\n",
    "        return\n",
    "    if number==0:\n",
    "        return 1\n",
    "    else:\n",
    "        for i in range(0,number):\n",
    "            total=number-i\n",
    "            factorial=factorial*(total)\n",
    "        return factorial"
   ]
  },
  {
   "cell_type": "code",
   "execution_count": 17,
   "metadata": {},
   "outputs": [
    {
     "data": {
      "text/plain": [
       "120"
      ]
     },
     "execution_count": 17,
     "metadata": {},
     "output_type": "execute_result"
    }
   ],
   "source": [
    "Cal_factorial(5)"
   ]
  },
  {
   "cell_type": "markdown",
   "metadata": {},
   "source": [
    "**12. Write a python program to find whether a number is prime or composite.**"
   ]
  },
  {
   "cell_type": "code",
   "execution_count": 20,
   "metadata": {},
   "outputs": [],
   "source": [
    "def check_num(number):\n",
    "    if number<1:\n",
    "        print(number,\"Not possible\")\n",
    "    if number >1:\n",
    "        for i in range(2,number):\n",
    "            if number%i==0:\n",
    "                print(number,\"is not a prime number\")\n",
    "                break\n",
    "        else:\n",
    "            print(number,\"is a prime number\")\n",
    "    elif number== 0 or number== 1:\n",
    "        print(number,\"is neither prime or composite number\")\n",
    "   "
   ]
  },
  {
   "cell_type": "code",
   "execution_count": 22,
   "metadata": {},
   "outputs": [
    {
     "name": "stdout",
     "output_type": "stream",
     "text": [
      "19 is a prime number\n"
     ]
    }
   ],
   "source": [
    "check_num(19)"
   ]
  },
  {
   "cell_type": "code",
   "execution_count": 19,
   "metadata": {},
   "outputs": [
    {
     "name": "stdout",
     "output_type": "stream",
     "text": [
      "enter any number:15\n",
      "15 is not a prime number\n"
     ]
    }
   ],
   "source": [
    "number=int(input(\"enter any number:\"))\n",
    "if number<1:\n",
    "    print(number,\"Not possible\")\n",
    "if number >1:\n",
    "    for i in range(2,number):\n",
    "        if number%i==0:\n",
    "            print(number,\"is not a prime number\")\n",
    "            break\n",
    "    else:\n",
    "        print(number,\"is a prime number\")\n",
    "elif number== 0 or number== 1:\n",
    "    print(number,\"is neither prime or composite number\")\n",
    "   "
   ]
  },
  {
   "cell_type": "markdown",
   "metadata": {},
   "source": [
    "**13. Write a python program to check whether a given string is palindrome or not.**"
   ]
  },
  {
   "cell_type": "code",
   "execution_count": 29,
   "metadata": {},
   "outputs": [],
   "source": [
    "def check(string):\n",
    "    x=-1\n",
    "    f=\"\"\n",
    "    for i in string:\n",
    "        T=string[x]\n",
    "        x-=1\n",
    "        f+=str(T)\n",
    "    if f.lower()==string.lower():\n",
    "        print(string,\"&\",f,\"is palindrome\")\n",
    "    else:\n",
    "        print(string,\"&\",f,\"is not palindrome\")\n",
    "        "
   ]
  },
  {
   "cell_type": "code",
   "execution_count": 30,
   "metadata": {},
   "outputs": [
    {
     "name": "stdout",
     "output_type": "stream",
     "text": [
      "ABSsba & absSBA is palindrome\n"
     ]
    }
   ],
   "source": [
    "check('ABSsba')"
   ]
  },
  {
   "cell_type": "code",
   "execution_count": 32,
   "metadata": {},
   "outputs": [
    {
     "name": "stdout",
     "output_type": "stream",
     "text": [
      "Raam & maaR is not palindrome\n"
     ]
    }
   ],
   "source": [
    "check(\"Raam\")"
   ]
  },
  {
   "cell_type": "code",
   "execution_count": 34,
   "metadata": {},
   "outputs": [
    {
     "name": "stdout",
     "output_type": "stream",
     "text": [
      "Enter your string:Raam\n",
      "Raam & maaR is not palindrome\n"
     ]
    }
   ],
   "source": [
    "string=str(input(\"Enter your string:\"))\n",
    "x=-1\n",
    "f=\"\"\n",
    "for i in string:\n",
    "    T=string[x]\n",
    "    x-=1\n",
    "    f+=str(T)\n",
    "if f.lower()==string.lower():\n",
    "    print(string,\"&\",f,\"is palindrome\")\n",
    "else:\n",
    "    print(string,\"&\",f,\"is not palindrome\")"
   ]
  },
  {
   "cell_type": "markdown",
   "metadata": {},
   "source": [
    "**14. Write a Python program to get the third side of right-angled triangle from two given sides.**"
   ]
  },
  {
   "cell_type": "code",
   "execution_count": 35,
   "metadata": {},
   "outputs": [],
   "source": [
    "import numpy as np\n",
    "def Triangle_hypotenuse(adjacent,opposite):\n",
    "    hypotenuse=np.sqrt((adjacent**2)+(opposite**2))\n",
    "    return hypotenuse"
   ]
  },
  {
   "cell_type": "code",
   "execution_count": 36,
   "metadata": {},
   "outputs": [
    {
     "data": {
      "text/plain": [
       "6.4031242374328485"
      ]
     },
     "execution_count": 36,
     "metadata": {},
     "output_type": "execute_result"
    }
   ],
   "source": [
    "Triangle_hypotenuse(5,4)"
   ]
  },
  {
   "cell_type": "markdown",
   "metadata": {},
   "source": [
    "**15. Write a python program to print the frequency of each of the characters present in a given string**"
   ]
  },
  {
   "cell_type": "code",
   "execution_count": 49,
   "metadata": {},
   "outputs": [],
   "source": [
    "from collections import Counter\n",
    "def count(string):\n",
    "    counter={}\n",
    "    for i in string.lower():\n",
    "        if i in str(counter):\n",
    "            counter[i]+=1\n",
    "        else:\n",
    "            counter[i]=1\n",
    "    return counter"
   ]
  },
  {
   "cell_type": "code",
   "execution_count": 50,
   "metadata": {},
   "outputs": [
    {
     "data": {
      "text/plain": [
       "{'s': 2, 'u': 2, 'd': 1, 'h': 1, 'a': 2, 'n': 1}"
      ]
     },
     "execution_count": 50,
     "metadata": {},
     "output_type": "execute_result"
    }
   ],
   "source": [
    "count(\"sudhanAsu\")"
   ]
  },
  {
   "cell_type": "code",
   "execution_count": 52,
   "metadata": {},
   "outputs": [
    {
     "name": "stdout",
     "output_type": "stream",
     "text": [
      "Enter the string:RaamA\n",
      "{'r': 1, 'a': 3, 'm': 1}\n"
     ]
    }
   ],
   "source": [
    "string=str(input(\"Enter the string:\"))\n",
    "counter={}\n",
    "for i in string.lower():\n",
    "    if i in str(counter):\n",
    "        counter[i]+=1\n",
    "    else:\n",
    "        counter[i]=1\n",
    "print(counter)"
   ]
  },
  {
   "cell_type": "code",
   "execution_count": null,
   "metadata": {},
   "outputs": [],
   "source": []
  }
 ],
 "metadata": {
  "kernelspec": {
   "display_name": "Python 3",
   "language": "python",
   "name": "python3"
  },
  "language_info": {
   "codemirror_mode": {
    "name": "ipython",
    "version": 3
   },
   "file_extension": ".py",
   "mimetype": "text/x-python",
   "name": "python",
   "nbconvert_exporter": "python",
   "pygments_lexer": "ipython3",
   "version": "3.7.6"
  }
 },
 "nbformat": 4,
 "nbformat_minor": 4
}
